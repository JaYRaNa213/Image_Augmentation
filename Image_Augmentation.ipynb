{
  "nbformat": 4,
  "nbformat_minor": 0,
  "metadata": {
    "colab": {
      "provenance": []
    },
    "kernelspec": {
      "name": "python3",
      "display_name": "Python 3"
    },
    "language_info": {
      "name": "python"
    }
  },
  "cells": [
    {
      "cell_type": "code",
      "execution_count": 8,
      "metadata": {
        "id": "DVJT0yRYzvs5"
      },
      "outputs": [],
      "source": [
        "\n",
        "\n",
        "from tensorflow.keras.preprocessing.image import ImageDataGenerator, array_to_img, img_to_array, load_img\n",
        "\n",
        "# ... (rest of your code)"
      ]
    },
    {
      "cell_type": "code",
      "source": [
        "import zipfile\n",
        "import os\n",
        "import shutil\n",
        "with zipfile.ZipFile('zip_file_name','r') as f :\n",
        "  f.extractall('.')"
      ],
      "metadata": {
        "id": "k3JnUbCb3guq"
      },
      "execution_count": 5,
      "outputs": []
    },
    {
      "cell_type": "code",
      "source": [
        "import pandas as pd\n",
        "import numpy as np\n",
        "\n",
        "import tensorflow as tf"
      ],
      "metadata": {
        "id": "umMGjlRFzxwc"
      },
      "execution_count": 6,
      "outputs": []
    },
    {
      "cell_type": "code",
      "source": [],
      "metadata": {
        "id": "3FTneo7Tzzvt"
      },
      "execution_count": 11,
      "outputs": []
    },
    {
      "cell_type": "code",
      "source": [
        "import keras\n",
        "import cv2\n",
        "import os\n",
        "import glob\n",
        "# from keras.preprocessing.image import ImageDataGenerator, array_to_img, img_to_array, load_img\n",
        "datagen = ImageDataGenerator(rotation_range =15,\n",
        "                         width_shift_range = 0.2,\n",
        "                         height_shift_range = 0.2,\n",
        "                         rescale=1./255,\n",
        "                         shear_range=0.2,\n",
        "                         zoom_range=0.2,\n",
        "                         horizontal_flip = True,\n",
        "                         fill_mode = 'nearest',\n",
        "                         data_format='channels_last',\n",
        "                         brightness_range=[0.5, 1.5])\n",
        "\n",
        "\n",
        "img_dir = \"folder_name" # Enter Directory of all images\n",
        "data_path = os.path.join(img_dir,'*g')\n",
        "files = glob.glob(data_path)\n",
        "data = []\n",
        "for f1 in files:\n",
        "    img = cv2.imread(f1)\n",
        "    data.append(img)\n",
        "\n",
        "x = img_to_array(img)\n",
        "x = x.reshape((1,) + x.shape)\n",
        "\n",
        "i = 0\n",
        "path, dirs, files = next(os.walk(\"folder_name"))\n",
        "file_count = len(files) #to find number of files in folder\n",
        "\n",
        "for batch in datagen.flow (x, batch_size=1, save_to_dir =r'folder_name_to_save_Aug_images',save_prefix=\"aug",save_format='jpg'):\n",
        "    i+=1\n",
        "    if i==file_count:\n",
        "      break"
      ],
      "metadata": {
        "id": "CiTVWUjc0vpn"
      },
      "execution_count": 13,
      "outputs": []
    },
    {
      "cell_type": "code",
      "source": [
        "import keras\n",
        "import cv2\n",
        "import os\n",
        "import glob\n",
        "# from keras.preprocessing.image import ImageDataGenerator, array_to_img, img_to_array, load_img\n",
        "datagen = ImageDataGenerator(rotation_range =15,\n",
        "                         width_shift_range = 0.2,\n",
        "                         height_shift_range = 0.2,\n",
        "                         rescale=1./255,\n",
        "                         shear_range=0.2,\n",
        "                         zoom_range=0.2,\n",
        "                         horizontal_flip = True,\n",
        "                         fill_mode = 'nearest',\n",
        "                         data_format='channels_last',\n",
        "                         brightness_range=[0.5, 1.5])\n",
        "\n",
        "\n",
        "img_dir = \"/content/2_Microplastics\" # Enter Directory of all images\n",
        "data_path = os.path.join(img_dir,'*g')\n",
        "files = glob.glob(data_path)\n",
        "data = []\n",
        "for f1 in files:\n",
        "    img = cv2.imread(f1)\n",
        "    data.append(img)\n",
        "\n",
        "x = img_to_array(img)\n",
        "x = x.reshape((1,) + x.shape)\n",
        "\n",
        "i = 0\n",
        "path, dirs, files = next(os.walk(\"/content/2_Microplastics\"))\n",
        "file_count = len(files) #to find number of files in folder\n",
        "\n",
        "for batch in datagen.flow (x, batch_size=1, save_to_dir =r'/content/drive/MyDrive/Mri_project_code/micro_plastic_img_data_set/AUG_TRANING/Micro_Plastic_AUGMentation',save_prefix=\"MicroPlastic2_augg_BY_jay\",save_format='jpg'):\n",
        "    i+=1\n",
        "    if i==file_count:\n",
        "      break"
      ],
      "metadata": {
        "id": "sbVYZNEX5SOX"
      },
      "execution_count": 15,
      "outputs": []
    },
    {
      "cell_type": "code",
      "source": [],
      "metadata": {
        "id": "OTdP121L75ER"
      },
      "execution_count": null,
      "outputs": []
    }
  ]
}
